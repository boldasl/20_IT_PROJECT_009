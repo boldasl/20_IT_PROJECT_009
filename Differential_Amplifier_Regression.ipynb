{
  "nbformat": 4,
  "nbformat_minor": 0,
  "metadata": {
    "colab": {
      "name": "Differential_Amplifier_Regression.ipynb",
      "provenance": [],
      "collapsed_sections": [],
      "mount_file_id": "1lKvQPoroUF0EFWkdQvQWOcrdBSMRO4Xm",
      "authorship_tag": "ABX9TyMmPutUGhvTcMljHGXkk/u1",
      "include_colab_link": true
    },
    "kernelspec": {
      "name": "python3",
      "display_name": "Python 3"
    },
    "accelerator": "GPU"
  },
  "cells": [
    {
      "cell_type": "markdown",
      "metadata": {
        "id": "view-in-github",
        "colab_type": "text"
      },
      "source": [
        "<a href=\"https://colab.research.google.com/github/boldasl/20_IT_PROJECT_009/blob/main/Differential_Amplifier_Regression.ipynb\" target=\"_parent\"><img src=\"https://colab.research.google.com/assets/colab-badge.svg\" alt=\"Open In Colab\"/></a>"
      ]
    },
    {
      "cell_type": "code",
      "metadata": {
        "id": "bp7bxdyC5O3H",
        "colab": {
          "base_uri": "https://localhost:8080/"
        },
        "outputId": "3ead1260-ff92-48f4-dba0-9d58a861d0e2"
      },
      "source": [
        "!nvidia-smi"
      ],
      "execution_count": null,
      "outputs": [
        {
          "output_type": "stream",
          "text": [
            "Sun Nov 15 02:13:35 2020       \n",
            "+-----------------------------------------------------------------------------+\n",
            "| NVIDIA-SMI 455.32.00    Driver Version: 418.67       CUDA Version: 10.1     |\n",
            "|-------------------------------+----------------------+----------------------+\n",
            "| GPU  Name        Persistence-M| Bus-Id        Disp.A | Volatile Uncorr. ECC |\n",
            "| Fan  Temp  Perf  Pwr:Usage/Cap|         Memory-Usage | GPU-Util  Compute M. |\n",
            "|                               |                      |               MIG M. |\n",
            "|===============================+======================+======================|\n",
            "|   0  Tesla T4            Off  | 00000000:00:04.0 Off |                    0 |\n",
            "| N/A   52C    P8    10W /  70W |      0MiB / 15079MiB |      0%      Default |\n",
            "|                               |                      |                 ERR! |\n",
            "+-------------------------------+----------------------+----------------------+\n",
            "                                                                               \n",
            "+-----------------------------------------------------------------------------+\n",
            "| Processes:                                                                  |\n",
            "|  GPU   GI   CI        PID   Type   Process name                  GPU Memory |\n",
            "|        ID   ID                                                   Usage      |\n",
            "|=============================================================================|\n",
            "|  No running processes found                                                 |\n",
            "+-----------------------------------------------------------------------------+\n"
          ],
          "name": "stdout"
        }
      ]
    },
    {
      "cell_type": "code",
      "metadata": {
        "id": "A2ePPHJquA0N",
        "colab": {
          "base_uri": "https://localhost:8080/"
        },
        "outputId": "9cdf6da1-6705-48db-b177-4bca8edfa41a"
      },
      "source": [
        "!pip install -q seaborn\n",
        "!pip install livelossplot"
      ],
      "execution_count": null,
      "outputs": [
        {
          "output_type": "stream",
          "text": [
            "Collecting livelossplot\n",
            "  Downloading https://files.pythonhosted.org/packages/0f/08/1884157a3de72d41fa97cacacafaa49abf00eba53cb7e08615b2b65b4a9d/livelossplot-0.5.3-py3-none-any.whl\n",
            "Requirement already satisfied: matplotlib; python_version >= \"3.6\" in /usr/local/lib/python3.6/dist-packages (from livelossplot) (3.2.2)\n",
            "Requirement already satisfied: bokeh; python_version >= \"3.6\" in /usr/local/lib/python3.6/dist-packages (from livelossplot) (2.1.1)\n",
            "Requirement already satisfied: ipython in /usr/local/lib/python3.6/dist-packages (from livelossplot) (5.5.0)\n",
            "Requirement already satisfied: numpy>=1.11 in /usr/local/lib/python3.6/dist-packages (from matplotlib; python_version >= \"3.6\"->livelossplot) (1.18.5)\n",
            "Requirement already satisfied: python-dateutil>=2.1 in /usr/local/lib/python3.6/dist-packages (from matplotlib; python_version >= \"3.6\"->livelossplot) (2.8.1)\n",
            "Requirement already satisfied: cycler>=0.10 in /usr/local/lib/python3.6/dist-packages (from matplotlib; python_version >= \"3.6\"->livelossplot) (0.10.0)\n",
            "Requirement already satisfied: pyparsing!=2.0.4,!=2.1.2,!=2.1.6,>=2.0.1 in /usr/local/lib/python3.6/dist-packages (from matplotlib; python_version >= \"3.6\"->livelossplot) (2.4.7)\n",
            "Requirement already satisfied: kiwisolver>=1.0.1 in /usr/local/lib/python3.6/dist-packages (from matplotlib; python_version >= \"3.6\"->livelossplot) (1.3.1)\n",
            "Requirement already satisfied: Jinja2>=2.7 in /usr/local/lib/python3.6/dist-packages (from bokeh; python_version >= \"3.6\"->livelossplot) (2.11.2)\n",
            "Requirement already satisfied: PyYAML>=3.10 in /usr/local/lib/python3.6/dist-packages (from bokeh; python_version >= \"3.6\"->livelossplot) (3.13)\n",
            "Requirement already satisfied: tornado>=5.1 in /usr/local/lib/python3.6/dist-packages (from bokeh; python_version >= \"3.6\"->livelossplot) (5.1.1)\n",
            "Requirement already satisfied: packaging>=16.8 in /usr/local/lib/python3.6/dist-packages (from bokeh; python_version >= \"3.6\"->livelossplot) (20.4)\n",
            "Requirement already satisfied: pillow>=4.0 in /usr/local/lib/python3.6/dist-packages (from bokeh; python_version >= \"3.6\"->livelossplot) (7.0.0)\n",
            "Requirement already satisfied: typing-extensions>=3.7.4 in /usr/local/lib/python3.6/dist-packages (from bokeh; python_version >= \"3.6\"->livelossplot) (3.7.4.3)\n",
            "Requirement already satisfied: traitlets>=4.2 in /usr/local/lib/python3.6/dist-packages (from ipython->livelossplot) (4.3.3)\n",
            "Requirement already satisfied: pygments in /usr/local/lib/python3.6/dist-packages (from ipython->livelossplot) (2.6.1)\n",
            "Requirement already satisfied: pexpect; sys_platform != \"win32\" in /usr/local/lib/python3.6/dist-packages (from ipython->livelossplot) (4.8.0)\n",
            "Requirement already satisfied: decorator in /usr/local/lib/python3.6/dist-packages (from ipython->livelossplot) (4.4.2)\n",
            "Requirement already satisfied: simplegeneric>0.8 in /usr/local/lib/python3.6/dist-packages (from ipython->livelossplot) (0.8.1)\n",
            "Requirement already satisfied: pickleshare in /usr/local/lib/python3.6/dist-packages (from ipython->livelossplot) (0.7.5)\n",
            "Requirement already satisfied: prompt-toolkit<2.0.0,>=1.0.4 in /usr/local/lib/python3.6/dist-packages (from ipython->livelossplot) (1.0.18)\n",
            "Requirement already satisfied: setuptools>=18.5 in /usr/local/lib/python3.6/dist-packages (from ipython->livelossplot) (50.3.2)\n",
            "Requirement already satisfied: six>=1.5 in /usr/local/lib/python3.6/dist-packages (from python-dateutil>=2.1->matplotlib; python_version >= \"3.6\"->livelossplot) (1.15.0)\n",
            "Requirement already satisfied: MarkupSafe>=0.23 in /usr/local/lib/python3.6/dist-packages (from Jinja2>=2.7->bokeh; python_version >= \"3.6\"->livelossplot) (1.1.1)\n",
            "Requirement already satisfied: ipython-genutils in /usr/local/lib/python3.6/dist-packages (from traitlets>=4.2->ipython->livelossplot) (0.2.0)\n",
            "Requirement already satisfied: ptyprocess>=0.5 in /usr/local/lib/python3.6/dist-packages (from pexpect; sys_platform != \"win32\"->ipython->livelossplot) (0.6.0)\n",
            "Requirement already satisfied: wcwidth in /usr/local/lib/python3.6/dist-packages (from prompt-toolkit<2.0.0,>=1.0.4->ipython->livelossplot) (0.2.5)\n",
            "Installing collected packages: livelossplot\n",
            "Successfully installed livelossplot-0.5.3\n"
          ],
          "name": "stdout"
        }
      ]
    },
    {
      "cell_type": "code",
      "metadata": {
        "id": "DwBjzK_r5zSV",
        "colab": {
          "base_uri": "https://localhost:8080/"
        },
        "outputId": "bca05161-79dc-4718-ef0b-8fb06a395506"
      },
      "source": [
        "import numpy as np\n",
        "import pandas as pd\n",
        "import matplotlib.pyplot as plt\n",
        "import seaborn as sns\n",
        "\n",
        "from tensorflow import keras\n",
        "from keras.models import Sequential, save_model, load_model\n",
        "from keras.layers import Dense\n",
        "from keras.callbacks import EarlyStopping\n",
        "\n",
        "from livelossplot import PlotLossesKeras\n",
        "from statsmodels.stats.outliers_influence import variance_inflation_factor\n",
        "\n",
        "from datetime import datetime\n",
        "\n",
        "print(keras.__version__)"
      ],
      "execution_count": null,
      "outputs": [
        {
          "output_type": "stream",
          "text": [
            "2.4.0\n"
          ],
          "name": "stdout"
        },
        {
          "output_type": "stream",
          "text": [
            "/usr/local/lib/python3.6/dist-packages/statsmodels/tools/_testing.py:19: FutureWarning: pandas.util.testing is deprecated. Use the functions in the public API at pandas.testing instead.\n",
            "  import pandas.util.testing as tm\n"
          ],
          "name": "stderr"
        }
      ]
    },
    {
      "cell_type": "code",
      "metadata": {
        "id": "_AdZB2AI6VFj"
      },
      "source": [
        "MAIN_PATH = \"./drive/My Drive/Colab Notebooks/20-2_IT_PROJECT/diff_amp/\"\n",
        "MODEL_PATH = \"model/\"\n",
        "RAW_PATH = \"raw_data/\""
      ],
      "execution_count": null,
      "outputs": []
    },
    {
      "cell_type": "code",
      "metadata": {
        "id": "TMa7TUzm6m1O",
        "colab": {
          "base_uri": "https://localhost:8080/",
          "height": 402
        },
        "outputId": "b81b3a69-f21f-48c3-9960-2a37cd86be2f"
      },
      "source": [
        "raw_dataset = pd.read_csv(MAIN_PATH + RAW_PATH + \"raw_diff_amp_data1.csv\", na_values='?')\n",
        "dataset = raw_dataset.copy()\n",
        "raw_dataset\n"
      ],
      "execution_count": null,
      "outputs": [
        {
          "output_type": "execute_result",
          "data": {
            "text/html": [
              "<div>\n",
              "<style scoped>\n",
              "    .dataframe tbody tr th:only-of-type {\n",
              "        vertical-align: middle;\n",
              "    }\n",
              "\n",
              "    .dataframe tbody tr th {\n",
              "        vertical-align: top;\n",
              "    }\n",
              "\n",
              "    .dataframe thead th {\n",
              "        text-align: right;\n",
              "    }\n",
              "</style>\n",
              "<table border=\"1\" class=\"dataframe\">\n",
              "  <thead>\n",
              "    <tr style=\"text-align: right;\">\n",
              "      <th></th>\n",
              "      <th>Iss</th>\n",
              "      <th>Av</th>\n",
              "      <th>BW</th>\n",
              "      <th>M0_M1_W</th>\n",
              "      <th>M2_M3_W</th>\n",
              "    </tr>\n",
              "  </thead>\n",
              "  <tbody>\n",
              "    <tr>\n",
              "      <th>0</th>\n",
              "      <td>0.000001</td>\n",
              "      <td>44.58</td>\n",
              "      <td>1.090000e+08</td>\n",
              "      <td>4.000000e-07</td>\n",
              "      <td>4.000000e-07</td>\n",
              "    </tr>\n",
              "    <tr>\n",
              "      <th>1</th>\n",
              "      <td>0.000001</td>\n",
              "      <td>42.62</td>\n",
              "      <td>8.970000e+07</td>\n",
              "      <td>4.000000e-07</td>\n",
              "      <td>6.000000e-07</td>\n",
              "    </tr>\n",
              "    <tr>\n",
              "      <th>2</th>\n",
              "      <td>0.000001</td>\n",
              "      <td>43.59</td>\n",
              "      <td>7.350000e+07</td>\n",
              "      <td>4.000000e-07</td>\n",
              "      <td>8.000000e-07</td>\n",
              "    </tr>\n",
              "    <tr>\n",
              "      <th>3</th>\n",
              "      <td>0.000001</td>\n",
              "      <td>44.21</td>\n",
              "      <td>6.130000e+07</td>\n",
              "      <td>4.000000e-07</td>\n",
              "      <td>1.000000e-06</td>\n",
              "    </tr>\n",
              "    <tr>\n",
              "      <th>4</th>\n",
              "      <td>0.000001</td>\n",
              "      <td>44.01</td>\n",
              "      <td>5.410000e+07</td>\n",
              "      <td>4.000000e-07</td>\n",
              "      <td>1.200000e-06</td>\n",
              "    </tr>\n",
              "    <tr>\n",
              "      <th>...</th>\n",
              "      <td>...</td>\n",
              "      <td>...</td>\n",
              "      <td>...</td>\n",
              "      <td>...</td>\n",
              "      <td>...</td>\n",
              "    </tr>\n",
              "    <tr>\n",
              "      <th>721</th>\n",
              "      <td>0.000100</td>\n",
              "      <td>41.38</td>\n",
              "      <td>1.310000e+09</td>\n",
              "      <td>2.400000e-06</td>\n",
              "      <td>1.600000e-06</td>\n",
              "    </tr>\n",
              "    <tr>\n",
              "      <th>722</th>\n",
              "      <td>0.000100</td>\n",
              "      <td>41.59</td>\n",
              "      <td>1.240000e+09</td>\n",
              "      <td>2.400000e-06</td>\n",
              "      <td>1.800000e-06</td>\n",
              "    </tr>\n",
              "    <tr>\n",
              "      <th>723</th>\n",
              "      <td>0.000100</td>\n",
              "      <td>41.73</td>\n",
              "      <td>1.170000e+09</td>\n",
              "      <td>2.400000e-06</td>\n",
              "      <td>2.000000e-06</td>\n",
              "    </tr>\n",
              "    <tr>\n",
              "      <th>724</th>\n",
              "      <td>0.000100</td>\n",
              "      <td>41.80</td>\n",
              "      <td>1.120000e+09</td>\n",
              "      <td>2.400000e-06</td>\n",
              "      <td>2.200000e-06</td>\n",
              "    </tr>\n",
              "    <tr>\n",
              "      <th>725</th>\n",
              "      <td>0.000100</td>\n",
              "      <td>41.86</td>\n",
              "      <td>1.070000e+09</td>\n",
              "      <td>2.400000e-06</td>\n",
              "      <td>2.400000e-06</td>\n",
              "    </tr>\n",
              "  </tbody>\n",
              "</table>\n",
              "<p>726 rows × 5 columns</p>\n",
              "</div>"
            ],
            "text/plain": [
              "          Iss     Av            BW       M0_M1_W       M2_M3_W\n",
              "0    0.000001  44.58  1.090000e+08  4.000000e-07  4.000000e-07\n",
              "1    0.000001  42.62  8.970000e+07  4.000000e-07  6.000000e-07\n",
              "2    0.000001  43.59  7.350000e+07  4.000000e-07  8.000000e-07\n",
              "3    0.000001  44.21  6.130000e+07  4.000000e-07  1.000000e-06\n",
              "4    0.000001  44.01  5.410000e+07  4.000000e-07  1.200000e-06\n",
              "..        ...    ...           ...           ...           ...\n",
              "721  0.000100  41.38  1.310000e+09  2.400000e-06  1.600000e-06\n",
              "722  0.000100  41.59  1.240000e+09  2.400000e-06  1.800000e-06\n",
              "723  0.000100  41.73  1.170000e+09  2.400000e-06  2.000000e-06\n",
              "724  0.000100  41.80  1.120000e+09  2.400000e-06  2.200000e-06\n",
              "725  0.000100  41.86  1.070000e+09  2.400000e-06  2.400000e-06\n",
              "\n",
              "[726 rows x 5 columns]"
            ]
          },
          "metadata": {
            "tags": []
          },
          "execution_count": 5
        }
      ]
    },
    {
      "cell_type": "code",
      "metadata": {
        "id": "Mk-OuVSR2s0k"
      },
      "source": [
        "# m에서 um으로 단위 변경\n",
        "dataset[\"M0_M1_W\"] *= 10 ** 6\n",
        "dataset[\"M2_M3_W\"] *= 10 ** 6"
      ],
      "execution_count": null,
      "outputs": []
    },
    {
      "cell_type": "code",
      "metadata": {
        "id": "7FT4AHJ0jJ9-",
        "colab": {
          "base_uri": "https://localhost:8080/"
        },
        "outputId": "362bd789-06d9-4358-e606-ec4661c5b64f"
      },
      "source": [
        "# dataset에서 NaN 값이 있는 행의 개수를 계산하고 삭제.\n",
        "print(dataset.isna().sum())\n",
        "dataset = dataset.dropna()"
      ],
      "execution_count": null,
      "outputs": [
        {
          "output_type": "stream",
          "text": [
            "Iss        0\n",
            "Av         0\n",
            "BW         1\n",
            "M0_M1_W    0\n",
            "M2_M3_W    0\n",
            "dtype: int64\n"
          ],
          "name": "stdout"
        }
      ]
    },
    {
      "cell_type": "code",
      "metadata": {
        "id": "2GJqTNZ4gDX1",
        "colab": {
          "base_uri": "https://localhost:8080/",
          "height": 284
        },
        "outputId": "c24f0eb7-b7d9-46a4-e59f-36f7e789046a"
      },
      "source": [
        "# 데이터셋 확인\n",
        "dataset.describe()"
      ],
      "execution_count": null,
      "outputs": [
        {
          "output_type": "execute_result",
          "data": {
            "text/html": [
              "<div>\n",
              "<style scoped>\n",
              "    .dataframe tbody tr th:only-of-type {\n",
              "        vertical-align: middle;\n",
              "    }\n",
              "\n",
              "    .dataframe tbody tr th {\n",
              "        vertical-align: top;\n",
              "    }\n",
              "\n",
              "    .dataframe thead th {\n",
              "        text-align: right;\n",
              "    }\n",
              "</style>\n",
              "<table border=\"1\" class=\"dataframe\">\n",
              "  <thead>\n",
              "    <tr style=\"text-align: right;\">\n",
              "      <th></th>\n",
              "      <th>Iss</th>\n",
              "      <th>Av</th>\n",
              "      <th>BW</th>\n",
              "      <th>M0_M1_W</th>\n",
              "      <th>M2_M3_W</th>\n",
              "    </tr>\n",
              "  </thead>\n",
              "  <tbody>\n",
              "    <tr>\n",
              "      <th>count</th>\n",
              "      <td>725.000000</td>\n",
              "      <td>725.000000</td>\n",
              "      <td>7.250000e+02</td>\n",
              "      <td>725.000000</td>\n",
              "      <td>725.000000</td>\n",
              "    </tr>\n",
              "    <tr>\n",
              "      <th>mean</th>\n",
              "      <td>0.000027</td>\n",
              "      <td>44.395793</td>\n",
              "      <td>5.791113e+08</td>\n",
              "      <td>1.401379</td>\n",
              "      <td>1.401379</td>\n",
              "    </tr>\n",
              "    <tr>\n",
              "      <th>std</th>\n",
              "      <td>0.000035</td>\n",
              "      <td>7.857898</td>\n",
              "      <td>7.128618e+08</td>\n",
              "      <td>0.632236</td>\n",
              "      <td>0.632236</td>\n",
              "    </tr>\n",
              "    <tr>\n",
              "      <th>min</th>\n",
              "      <td>0.000001</td>\n",
              "      <td>17.720000</td>\n",
              "      <td>2.210000e+07</td>\n",
              "      <td>0.400000</td>\n",
              "      <td>0.400000</td>\n",
              "    </tr>\n",
              "    <tr>\n",
              "      <th>25%</th>\n",
              "      <td>0.000003</td>\n",
              "      <td>40.290000</td>\n",
              "      <td>8.360000e+07</td>\n",
              "      <td>0.800000</td>\n",
              "      <td>0.800000</td>\n",
              "    </tr>\n",
              "    <tr>\n",
              "      <th>50%</th>\n",
              "      <td>0.000006</td>\n",
              "      <td>46.350000</td>\n",
              "      <td>2.850000e+08</td>\n",
              "      <td>1.400000</td>\n",
              "      <td>1.400000</td>\n",
              "    </tr>\n",
              "    <tr>\n",
              "      <th>75%</th>\n",
              "      <td>0.000040</td>\n",
              "      <td>50.650000</td>\n",
              "      <td>8.030000e+08</td>\n",
              "      <td>2.000000</td>\n",
              "      <td>2.000000</td>\n",
              "    </tr>\n",
              "    <tr>\n",
              "      <th>max</th>\n",
              "      <td>0.000100</td>\n",
              "      <td>54.920000</td>\n",
              "      <td>4.730000e+09</td>\n",
              "      <td>2.400000</td>\n",
              "      <td>2.400000</td>\n",
              "    </tr>\n",
              "  </tbody>\n",
              "</table>\n",
              "</div>"
            ],
            "text/plain": [
              "              Iss          Av            BW     M0_M1_W     M2_M3_W\n",
              "count  725.000000  725.000000  7.250000e+02  725.000000  725.000000\n",
              "mean     0.000027   44.395793  5.791113e+08    1.401379    1.401379\n",
              "std      0.000035    7.857898  7.128618e+08    0.632236    0.632236\n",
              "min      0.000001   17.720000  2.210000e+07    0.400000    0.400000\n",
              "25%      0.000003   40.290000  8.360000e+07    0.800000    0.800000\n",
              "50%      0.000006   46.350000  2.850000e+08    1.400000    1.400000\n",
              "75%      0.000040   50.650000  8.030000e+08    2.000000    2.000000\n",
              "max      0.000100   54.920000  4.730000e+09    2.400000    2.400000"
            ]
          },
          "metadata": {
            "tags": []
          },
          "execution_count": 8
        }
      ]
    },
    {
      "cell_type": "code",
      "metadata": {
        "id": "Utm-h014xnXu",
        "colab": {
          "base_uri": "https://localhost:8080/"
        },
        "outputId": "22a8dc5f-344e-43b3-f3a6-6fcffde2be1f"
      },
      "source": [
        "# train dataset과 test dataset을 8:2 비율로 분리\n",
        "train_dataset = dataset.sample(frac=0.8, random_state=0)\n",
        "test_dataset = dataset.drop(train_dataset.index)\n",
        "print(\"train_dataset row count:\", train_dataset.shape[0])\n",
        "print(\"test_dataset row count:\", test_dataset.shape[0])\n"
      ],
      "execution_count": null,
      "outputs": [
        {
          "output_type": "stream",
          "text": [
            "train_dataset row count: 580\n",
            "test_dataset row count: 145\n"
          ],
          "name": "stdout"
        }
      ]
    },
    {
      "cell_type": "code",
      "metadata": {
        "id": "GHJ_qsQtzmI-",
        "colab": {
          "base_uri": "https://localhost:8080/",
          "height": 920
        },
        "outputId": "8e3f24aa-4a0c-4701-c2e9-b1e274ce0fae"
      },
      "source": [
        "# 산포도 확인\n",
        "plt.figure(figsize=(128,128))\n",
        "g = sns.pairplot(dataset[[\"Av\", \"BW\", \"Iss\", \"M0_M1_W\", \"M2_M3_W\"]], diag_kind=\"auto\")\n",
        "for i, j in zip(*np.triu_indices_from(g.axes, 1)):\n",
        "    g.axes[i, j].set_visible(False)"
      ],
      "execution_count": null,
      "outputs": [
        {
          "output_type": "display_data",
          "data": {
            "text/plain": [
              "<Figure size 9216x9216 with 0 Axes>"
            ]
          },
          "metadata": {
            "tags": []
          }
        },
        {
          "output_type": "display_data",
          "data": {
            "image/png": "[encoded data removed]",
            "text/plain": [
              "<Figure size 900x900 with 30 Axes>"
            ]
          },
          "metadata": {
            "tags": [],
            "needs_background": "light"
          }
        }
      ]
    },
    {
      "cell_type": "code",
      "metadata": {
        "id": "MnPSmRkZtm3M",
        "colab": {
          "base_uri": "https://localhost:8080/",
          "height": 501
        },
        "outputId": "62239b0b-ee48-4405-d1a6-d572b00b9eb6"
      },
      "source": [
        "# 피어슨 상관계수 확인\n",
        "df = train_dataset.corr()\n",
        "mask = np.zeros_like(df, dtype=np.bool)\n",
        "mask[np.triu_indices_from(mask)] = True\n",
        "\n",
        "plt.figure(figsize=(8,8))\n",
        "sns.heatmap(df, annot=True, \n",
        "fmt = '.2f', linewidths=.5, cmap='RdYlBu_r', mask=mask)"
      ],
      "execution_count": null,
      "outputs": [
        {
          "output_type": "execute_result",
          "data": {
            "text/plain": [
              "<matplotlib.axes._subplots.AxesSubplot at 0x7fb8fa3925f8>"
            ]
          },
          "metadata": {
            "tags": []
          },
          "execution_count": 11
        },
        {
          "output_type": "display_data",
          "data": {
            "image/png": "[encoded data removed]",
            "text/plain": [
              "<Figure size 576x576 with 2 Axes>"
            ]
          },
          "metadata": {
            "tags": [],
            "needs_background": "light"
          }
        }
      ]
    },
    {
      "cell_type": "code",
      "metadata": {
        "id": "Au7_E1_WzMk0"
      },
      "source": [
        "# 빈 DataFrame 생성.\n",
        "train_labels = pd.DataFrame()\n",
        "test_labels = pd.DataFrame()\n"
      ],
      "execution_count": null,
      "outputs": []
    },
    {
      "cell_type": "code",
      "metadata": {
        "id": "Ws21vXVLyv8-"
      },
      "source": [
        "train_labels[\"M0_M1_W\"] = train_dataset.pop(\"M0_M1_W\")\n",
        "train_labels[\"M2_M3_W\"] = train_dataset.pop(\"M2_M3_W\")\n",
        "\n",
        "test_labels[\"M0_M1_W\"] = test_dataset.pop(\"M0_M1_W\")\n",
        "test_labels[\"M2_M3_W\"] = test_dataset.pop(\"M2_M3_W\")\n"
      ],
      "execution_count": null,
      "outputs": []
    },
    {
      "cell_type": "code",
      "metadata": {
        "id": "ZI-kvM0KzA5D",
        "colab": {
          "base_uri": "https://localhost:8080/",
          "height": 136
        },
        "outputId": "c17c7698-4ea1-4a83-87af-614ea1cb0435"
      },
      "source": [
        "# VIF 확인\n",
        "vif = pd.DataFrame()\n",
        "vif[\"VIF Factor\"] = [variance_inflation_factor(train_dataset.values, i) for i in range(train_dataset.shape[1])]\n",
        "vif[\"features\"] = train_dataset.columns \n",
        "vif\n"
      ],
      "execution_count": null,
      "outputs": [
        {
          "output_type": "execute_result",
          "data": {
            "text/html": [
              "<div>\n",
              "<style scoped>\n",
              "    .dataframe tbody tr th:only-of-type {\n",
              "        vertical-align: middle;\n",
              "    }\n",
              "\n",
              "    .dataframe tbody tr th {\n",
              "        vertical-align: top;\n",
              "    }\n",
              "\n",
              "    .dataframe thead th {\n",
              "        text-align: right;\n",
              "    }\n",
              "</style>\n",
              "<table border=\"1\" class=\"dataframe\">\n",
              "  <thead>\n",
              "    <tr style=\"text-align: right;\">\n",
              "      <th></th>\n",
              "      <th>VIF Factor</th>\n",
              "      <th>features</th>\n",
              "    </tr>\n",
              "  </thead>\n",
              "  <tbody>\n",
              "    <tr>\n",
              "      <th>0</th>\n",
              "      <td>7.199611</td>\n",
              "      <td>Iss</td>\n",
              "    </tr>\n",
              "    <tr>\n",
              "      <th>1</th>\n",
              "      <td>1.365130</td>\n",
              "      <td>Av</td>\n",
              "    </tr>\n",
              "    <tr>\n",
              "      <th>2</th>\n",
              "      <td>7.223499</td>\n",
              "      <td>BW</td>\n",
              "    </tr>\n",
              "  </tbody>\n",
              "</table>\n",
              "</div>"
            ],
            "text/plain": [
              "   VIF Factor features\n",
              "0    7.199611      Iss\n",
              "1    1.365130       Av\n",
              "2    7.223499       BW"
            ]
          },
          "metadata": {
            "tags": []
          },
          "execution_count": 12
        }
      ]
    },
    {
      "cell_type": "code",
      "metadata": {
        "id": "JZxQMBoqzfE4",
        "colab": {
          "base_uri": "https://localhost:8080/",
          "height": 136
        },
        "outputId": "e6e8a676-4ac3-4995-c1aa-5418f64622be"
      },
      "source": [
        "train_stats = train_dataset.describe()\n",
        "train_stats = train_stats.transpose()\n",
        "train_stats\n"
      ],
      "execution_count": null,
      "outputs": [
        {
          "output_type": "execute_result",
          "data": {
            "text/html": [
              "<div>\n",
              "<style scoped>\n",
              "    .dataframe tbody tr th:only-of-type {\n",
              "        vertical-align: middle;\n",
              "    }\n",
              "\n",
              "    .dataframe tbody tr th {\n",
              "        vertical-align: top;\n",
              "    }\n",
              "\n",
              "    .dataframe thead th {\n",
              "        text-align: right;\n",
              "    }\n",
              "</style>\n",
              "<table border=\"1\" class=\"dataframe\">\n",
              "  <thead>\n",
              "    <tr style=\"text-align: right;\">\n",
              "      <th></th>\n",
              "      <th>count</th>\n",
              "      <th>mean</th>\n",
              "      <th>std</th>\n",
              "      <th>min</th>\n",
              "      <th>25%</th>\n",
              "      <th>50%</th>\n",
              "      <th>75%</th>\n",
              "      <th>max</th>\n",
              "    </tr>\n",
              "  </thead>\n",
              "  <tbody>\n",
              "    <tr>\n",
              "      <th>Iss</th>\n",
              "      <td>580.0</td>\n",
              "      <td>2.761938e-05</td>\n",
              "      <td>3.482885e-05</td>\n",
              "      <td>1.000000e-06</td>\n",
              "      <td>2.510000e-06</td>\n",
              "      <td>1.590000e-05</td>\n",
              "      <td>3.980000e-05</td>\n",
              "      <td>1.000000e-04</td>\n",
              "    </tr>\n",
              "    <tr>\n",
              "      <th>Av</th>\n",
              "      <td>580.0</td>\n",
              "      <td>4.443071e+01</td>\n",
              "      <td>7.898487e+00</td>\n",
              "      <td>1.772000e+01</td>\n",
              "      <td>4.028250e+01</td>\n",
              "      <td>4.641500e+01</td>\n",
              "      <td>5.077250e+01</td>\n",
              "      <td>5.492000e+01</td>\n",
              "    </tr>\n",
              "    <tr>\n",
              "      <th>BW</th>\n",
              "      <td>580.0</td>\n",
              "      <td>5.820669e+08</td>\n",
              "      <td>7.170952e+08</td>\n",
              "      <td>2.210000e+07</td>\n",
              "      <td>8.587500e+07</td>\n",
              "      <td>2.885000e+08</td>\n",
              "      <td>8.032500e+08</td>\n",
              "      <td>4.730000e+09</td>\n",
              "    </tr>\n",
              "  </tbody>\n",
              "</table>\n",
              "</div>"
            ],
            "text/plain": [
              "     count          mean  ...           75%           max\n",
              "Iss  580.0  2.761938e-05  ...  3.980000e-05  1.000000e-04\n",
              "Av   580.0  4.443071e+01  ...  5.077250e+01  5.492000e+01\n",
              "BW   580.0  5.820669e+08  ...  8.032500e+08  4.730000e+09\n",
              "\n",
              "[3 rows x 8 columns]"
            ]
          },
          "metadata": {
            "tags": []
          },
          "execution_count": 13
        }
      ]
    },
    {
      "cell_type": "code",
      "metadata": {
        "id": "TPZsI0kx1UOh"
      },
      "source": [
        "def norm(x):\n",
        "  return (x - train_stats['mean']) / train_stats['std']\n",
        "normed_train_dataset = norm(train_dataset)\n",
        "normed_test_dataset = norm(test_dataset)"
      ],
      "execution_count": null,
      "outputs": []
    },
    {
      "cell_type": "code",
      "metadata": {
        "id": "Roz1MmdA6YLA",
        "colab": {
          "base_uri": "https://localhost:8080/",
          "height": 136
        },
        "outputId": "04f5289e-13ec-4d0f-9501-16a43a2f4239"
      },
      "source": [
        "normed_train_dataset.describe().transpose()"
      ],
      "execution_count": null,
      "outputs": [
        {
          "output_type": "execute_result",
          "data": {
            "text/html": [
              "<div>\n",
              "<style scoped>\n",
              "    .dataframe tbody tr th:only-of-type {\n",
              "        vertical-align: middle;\n",
              "    }\n",
              "\n",
              "    .dataframe tbody tr th {\n",
              "        vertical-align: top;\n",
              "    }\n",
              "\n",
              "    .dataframe thead th {\n",
              "        text-align: right;\n",
              "    }\n",
              "</style>\n",
              "<table border=\"1\" class=\"dataframe\">\n",
              "  <thead>\n",
              "    <tr style=\"text-align: right;\">\n",
              "      <th></th>\n",
              "      <th>count</th>\n",
              "      <th>mean</th>\n",
              "      <th>std</th>\n",
              "      <th>min</th>\n",
              "      <th>25%</th>\n",
              "      <th>50%</th>\n",
              "      <th>75%</th>\n",
              "      <th>max</th>\n",
              "    </tr>\n",
              "  </thead>\n",
              "  <tbody>\n",
              "    <tr>\n",
              "      <th>Iss</th>\n",
              "      <td>580.0</td>\n",
              "      <td>2.142730e-15</td>\n",
              "      <td>1.0</td>\n",
              "      <td>-0.764291</td>\n",
              "      <td>-0.720936</td>\n",
              "      <td>-0.336485</td>\n",
              "      <td>0.349728</td>\n",
              "      <td>2.078180</td>\n",
              "    </tr>\n",
              "    <tr>\n",
              "      <th>Av</th>\n",
              "      <td>580.0</td>\n",
              "      <td>4.290462e-15</td>\n",
              "      <td>1.0</td>\n",
              "      <td>-3.381750</td>\n",
              "      <td>-0.525190</td>\n",
              "      <td>0.251224</td>\n",
              "      <td>0.802912</td>\n",
              "      <td>1.328013</td>\n",
              "    </tr>\n",
              "    <tr>\n",
              "      <th>BW</th>\n",
              "      <td>580.0</td>\n",
              "      <td>-1.006857e-16</td>\n",
              "      <td>1.0</td>\n",
              "      <td>-0.780882</td>\n",
              "      <td>-0.691947</td>\n",
              "      <td>-0.409383</td>\n",
              "      <td>0.308443</td>\n",
              "      <td>5.784355</td>\n",
              "    </tr>\n",
              "  </tbody>\n",
              "</table>\n",
              "</div>"
            ],
            "text/plain": [
              "     count          mean  std       min       25%       50%       75%       max\n",
              "Iss  580.0  2.142730e-15  1.0 -0.764291 -0.720936 -0.336485  0.349728  2.078180\n",
              "Av   580.0  4.290462e-15  1.0 -3.381750 -0.525190  0.251224  0.802912  1.328013\n",
              "BW   580.0 -1.006857e-16  1.0 -0.780882 -0.691947 -0.409383  0.308443  5.784355"
            ]
          },
          "metadata": {
            "tags": []
          },
          "execution_count": 15
        }
      ]
    },
    {
      "cell_type": "code",
      "metadata": {
        "id": "5eqnIZodzlYG"
      },
      "source": [
        "# Network Configuration\n",
        "LAMBDA = 0.0001"
      ],
      "execution_count": null,
      "outputs": []
    },
    {
      "cell_type": "code",
      "metadata": {
        "id": "VSOVVRAB1agy"
      },
      "source": [
        "# 인공지능 모델 생성.\n",
        "def build_nn_model():\n",
        "    model = Sequential()\n",
        "    model.add(Dense(64, activation='relu', input_shape=[len(train_dataset.keys())]))\n",
        "    model.add(Dense(64, activation='relu'))\n",
        "    model.add(Dense(2))\n",
        "\n",
        "    opt = keras.optimizers.Adam(learning_rate=0.001)\n",
        "    model.compile(loss='mse', optimizer=opt, metrics=['mae'])\n",
        "    return model\n",
        "\n",
        "\n",
        "def build_l2_model():\n",
        "    model = Sequential()\n",
        "    model.add(Dense(64, activation='relu', kernel_regularizer=keras.regularizers.l2(LAMBDA), input_shape=[len(train_dataset.keys())]))\n",
        "    model.add(Dense(64, activation='relu', kernel_regularizer=keras.regularizers.l2(LAMBDA)))\n",
        "    model.add(Dense(2))\n",
        "\n",
        "    opt = keras.optimizers.Adam(learning_rate=0.001)\n",
        "    model.compile(loss='mse', optimizer=opt, metrics=['mae'])\n",
        "    return model\n",
        "\n"
      ],
      "execution_count": null,
      "outputs": []
    },
    {
      "cell_type": "code",
      "metadata": {
        "id": "JgZWUNWj1f-m",
        "colab": {
          "base_uri": "https://localhost:8080/"
        },
        "outputId": "58aa7c00-c7b9-4bd7-a73a-db7a3c124e25"
      },
      "source": [
        "model = build_l2_model()\n",
        "model.summary()\n"
      ],
      "execution_count": null,
      "outputs": [
        {
          "output_type": "stream",
          "text": [
            "Model: \"sequential_5\"\n",
            "_________________________________________________________________\n",
            "Layer (type)                 Output Shape              Param #   \n",
            "=================================================================\n",
            "dense_15 (Dense)             (None, 64)                256       \n",
            "_________________________________________________________________\n",
            "dense_16 (Dense)             (None, 64)                4160      \n",
            "_________________________________________________________________\n",
            "dense_17 (Dense)             (None, 2)                 130       \n",
            "=================================================================\n",
            "Total params: 4,546\n",
            "Trainable params: 4,546\n",
            "Non-trainable params: 0\n",
            "_________________________________________________________________\n"
          ],
          "name": "stdout"
        }
      ]
    },
    {
      "cell_type": "code",
      "metadata": {
        "id": "Xm3mz3rY4j-F"
      },
      "source": [
        "# Traning Configuration\n",
        "EPOCHS = 1000\n",
        "BATCH_SIZE = 32"
      ],
      "execution_count": null,
      "outputs": []
    },
    {
      "cell_type": "code",
      "metadata": {
        "id": "Vs8pK2072E4n"
      },
      "source": [
        "# Define Callback Functions\n",
        "early_stopping = EarlyStopping(monitor=\"val_loss\", patience=30)\n",
        "livelossplot = PlotLossesKeras() # 실시간으로 Loss Function 변화를 보여주는 Library\n"
      ],
      "execution_count": null,
      "outputs": []
    },
    {
      "cell_type": "code",
      "metadata": {
        "id": "pH6Z_zPa1u0R",
        "colab": {
          "base_uri": "https://localhost:8080/",
          "height": 736
        },
        "outputId": "45e4f901-f73e-4ee3-a55b-e279390eb191"
      },
      "source": [
        "# Training Model\n",
        "history = model.fit(\n",
        "  normed_train_dataset, train_labels,\n",
        "  epochs=EPOCHS, batch_size=BATCH_SIZE, validation_split=0.25,\n",
        "  callbacks=[livelossplot])\n",
        "\n",
        "final_epochs = len(history.history[\"loss\"])\n",
        "print(\"Epochs =\", final_epochs)\n",
        "\n",
        "time = datetime.now()\n",
        "now = \"{0:04d}-{1:02d}-{2:02d} {3:02d}:{4:02d}:{5:02d}\".format(time.year, time.month, time.day, time.hour, time.minute, time.second)\n",
        "\n",
        "# Save Model\n",
        "MODEL_FILE_NAME = \"epoch-{}_batch-{}_time-{}.model\".format(final_epochs, BATCH_SIZE, now)\n",
        "save_model(model, MAIN_PATH + MODEL_PATH + MODEL_FILE_NAME)\n"
      ],
      "execution_count": null,
      "outputs": [
        {
          "output_type": "display_data",
          "data": {
            "image/png": "[encoded data removed]",
            "text/plain": [
              "<Figure size 864x576 with 2 Axes>"
            ]
          },
          "metadata": {
            "tags": [],
            "needs_background": "light"
          }
        },
        {
          "output_type": "stream",
          "text": [
            "Loss\n",
            "\ttraining         \t (min:    0.014, max:    2.010, cur:    0.015)\n",
            "\tvalidation       \t (min:    0.017, max:    1.429, cur:    0.017)\n",
            "mae\n",
            "\ttraining         \t (min:    0.056, max:    1.252, cur:    0.057)\n",
            "\tvalidation       \t (min:    0.068, max:    1.023, cur:    0.071)\n",
            "\b\b\b\b\b\b\b\b\b\b\b\b\b\b\b\b\b\b\b\b\b\b\b\b\b\b\b\b\b\b\b\b\b\b\b\b\b\b\b\b\b\b\b\b\b\b\b\b\b\b\b\b\b\b\b\b\b\b\b\b\b\b\b\b\b\b\b\b\b\b\b\b\b\b\b\b\b\r14/14 [==============================] - 0s 28ms/step - loss: 0.0147 - mae: 0.0566 - val_loss: 0.0174 - val_mae: 0.0706\n",
            "Epochs = 1000\n",
            "INFO:tensorflow:Assets written to: ./drive/My Drive/Colab Notebooks/20-2_IT_PROJECT/diff_amp/model/epoch-1000_batch-32_time-2020-11-15 03:47:52.model/assets\n"
          ],
          "name": "stdout"
        }
      ]
    },
    {
      "cell_type": "code",
      "metadata": {
        "id": "7SPCXmkrV_hI"
      },
      "source": [
        "# Load Model\n",
        "model = load_model(MAIN_DIR + MODEL_PATH + \"\")"
      ],
      "execution_count": null,
      "outputs": []
    },
    {
      "cell_type": "code",
      "metadata": {
        "id": "SmkFBhZ_i4Sa",
        "colab": {
          "base_uri": "https://localhost:8080/"
        },
        "outputId": "8ef88bb8-f8a5-4d50-88cb-59626ce15081"
      },
      "source": [
        "# Evaluation\n",
        "eval = model.evaluate(normed_test_dataset, test_labels, batch_size=1)"
      ],
      "execution_count": null,
      "outputs": [
        {
          "output_type": "stream",
          "text": [
            "145/145 [==============================] - 0s 2ms/step - loss: 0.0210 - mae: 0.0707\n"
          ],
          "name": "stdout"
        }
      ]
    },
    {
      "cell_type": "code",
      "metadata": {
        "id": "_-a21oHT5NNI"
      },
      "source": [
        "loss_hist = history.history[\"loss\"]\n",
        "val_loss_hist = history.history[\"val_loss\"]\n"
      ],
      "execution_count": null,
      "outputs": []
    },
    {
      "cell_type": "code",
      "metadata": {
        "id": "TKxuX9LK18wi",
        "colab": {
          "base_uri": "https://localhost:8080/"
        },
        "outputId": "3bca94aa-8a6e-47d1-f097-61efa5529501"
      },
      "source": [
        "example_batch = normed_train_dataset[:10]\n",
        "example_result = model.predict(example_batch)\n",
        "print(example_result) # 모델이 예측한 결과값\n",
        "print(train_labels[:10]) # Ground Truth Value"
      ],
      "execution_count": null,
      "outputs": [
        {
          "output_type": "stream",
          "text": [
            "[[1.7977449  2.206475  ]\n",
            " [0.59731245 0.7834914 ]\n",
            " [2.1317153  0.8430549 ]\n",
            " [2.108558   1.4303892 ]\n",
            " [0.5085027  1.4259043 ]\n",
            " [2.3163548  1.2558879 ]\n",
            " [2.097047   0.9611956 ]\n",
            " [1.267873   1.7793849 ]\n",
            " [0.9205159  1.8900015 ]\n",
            " [0.6622589  1.6134341 ]]\n",
            "     M0_M1_W  M2_M3_W\n",
            "570      1.8      2.2\n",
            "497      0.6      0.8\n",
            "585      2.2      0.8\n",
            "456      2.0      1.4\n",
            "258      0.6      1.4\n",
            "235      2.4      1.2\n",
            "575      2.0      1.0\n",
            "40       1.0      1.8\n",
            "31       0.8      2.2\n",
            "14       0.6      1.0\n"
          ],
          "name": "stdout"
        }
      ]
    },
    {
      "cell_type": "code",
      "metadata": {
        "id": "j1AS0sqA5P26"
      },
      "source": [
        "test_batch = normed_test_dataset\n",
        "test_result = model.predict(test_batch)"
      ],
      "execution_count": null,
      "outputs": []
    },
    {
      "cell_type": "code",
      "metadata": {
        "id": "Ot6puVOszXPS"
      },
      "source": [
        "comparison = pd.DataFrame(columns=[\"Av\", \"BW\", \"Iss\", \"real_M0_M1_W\", \"M0_M1_W\", \"real_M2_M3_W\", \"M2_M3_W\"])"
      ],
      "execution_count": null,
      "outputs": []
    },
    {
      "cell_type": "code",
      "metadata": {
        "id": "RRRCfXf4102V"
      },
      "source": [
        "comparison[\"real_M0_M1_W\"] = test_labels[\"M0_M1_W\"]\n",
        "comparison[\"real_M2_M3_W\"] = test_labels[\"M2_M3_W\"]\n",
        "comparison[\"M0_M1_W\"] = test_result[:, 0]\n",
        "comparison[\"M2_M3_W\"] = test_result[:, 1]\n",
        "\n",
        "comparison[\"Av\"] = test_dataset[\"Av\"]\n",
        "comparison[\"BW\"] = test_dataset[\"BW\"]\n",
        "comparison[\"Iss\"] = test_dataset[\"Iss\"]\n"
      ],
      "execution_count": null,
      "outputs": []
    },
    {
      "cell_type": "code",
      "metadata": {
        "id": "_0I-3cC_1d2p",
        "colab": {
          "base_uri": "https://localhost:8080/",
          "height": 402
        },
        "outputId": "57c71a01-3e79-4860-d059-6e58f2a92f2a"
      },
      "source": [
        "TEST_RESULT_NAME = \"test_result-{}.csv\".format(now)\n",
        "comparison.to_csv(MAIN_PATH + TEST_RESULT_NAME)\n",
        "comparison\n"
      ],
      "execution_count": null,
      "outputs": [
        {
          "output_type": "execute_result",
          "data": {
            "text/html": [
              "<div>\n",
              "<style scoped>\n",
              "    .dataframe tbody tr th:only-of-type {\n",
              "        vertical-align: middle;\n",
              "    }\n",
              "\n",
              "    .dataframe tbody tr th {\n",
              "        vertical-align: top;\n",
              "    }\n",
              "\n",
              "    .dataframe thead th {\n",
              "        text-align: right;\n",
              "    }\n",
              "</style>\n",
              "<table border=\"1\" class=\"dataframe\">\n",
              "  <thead>\n",
              "    <tr style=\"text-align: right;\">\n",
              "      <th></th>\n",
              "      <th>Av</th>\n",
              "      <th>BW</th>\n",
              "      <th>Iss</th>\n",
              "      <th>real_M0_M1_W</th>\n",
              "      <th>M0_M1_W</th>\n",
              "      <th>real_M2_M3_W</th>\n",
              "      <th>M2_M3_W</th>\n",
              "    </tr>\n",
              "  </thead>\n",
              "  <tbody>\n",
              "    <tr>\n",
              "      <th>9</th>\n",
              "      <td>43.30</td>\n",
              "      <td>3.360000e+07</td>\n",
              "      <td>0.000001</td>\n",
              "      <td>0.4</td>\n",
              "      <td>0.579215</td>\n",
              "      <td>2.2</td>\n",
              "      <td>1.892697</td>\n",
              "    </tr>\n",
              "    <tr>\n",
              "      <th>11</th>\n",
              "      <td>45.18</td>\n",
              "      <td>9.520000e+07</td>\n",
              "      <td>0.000001</td>\n",
              "      <td>0.6</td>\n",
              "      <td>0.602988</td>\n",
              "      <td>0.4</td>\n",
              "      <td>1.202914</td>\n",
              "    </tr>\n",
              "    <tr>\n",
              "      <th>19</th>\n",
              "      <td>44.11</td>\n",
              "      <td>3.570000e+07</td>\n",
              "      <td>0.000001</td>\n",
              "      <td>0.6</td>\n",
              "      <td>0.647602</td>\n",
              "      <td>2.0</td>\n",
              "      <td>1.864666</td>\n",
              "    </tr>\n",
              "    <tr>\n",
              "      <th>23</th>\n",
              "      <td>46.23</td>\n",
              "      <td>7.310000e+07</td>\n",
              "      <td>0.000001</td>\n",
              "      <td>0.8</td>\n",
              "      <td>0.750691</td>\n",
              "      <td>0.6</td>\n",
              "      <td>1.439945</td>\n",
              "    </tr>\n",
              "    <tr>\n",
              "      <th>28</th>\n",
              "      <td>47.39</td>\n",
              "      <td>3.960000e+07</td>\n",
              "      <td>0.000001</td>\n",
              "      <td>0.8</td>\n",
              "      <td>0.939474</td>\n",
              "      <td>1.6</td>\n",
              "      <td>1.800217</td>\n",
              "    </tr>\n",
              "    <tr>\n",
              "      <th>...</th>\n",
              "      <td>...</td>\n",
              "      <td>...</td>\n",
              "      <td>...</td>\n",
              "      <td>...</td>\n",
              "      <td>...</td>\n",
              "      <td>...</td>\n",
              "      <td>...</td>\n",
              "    </tr>\n",
              "    <tr>\n",
              "      <th>705</th>\n",
              "      <td>34.10</td>\n",
              "      <td>2.060000e+09</td>\n",
              "      <td>0.000100</td>\n",
              "      <td>2.2</td>\n",
              "      <td>1.666997</td>\n",
              "      <td>0.6</td>\n",
              "      <td>0.771848</td>\n",
              "    </tr>\n",
              "    <tr>\n",
              "      <th>706</th>\n",
              "      <td>37.28</td>\n",
              "      <td>1.830000e+09</td>\n",
              "      <td>0.000100</td>\n",
              "      <td>2.2</td>\n",
              "      <td>1.903159</td>\n",
              "      <td>0.8</td>\n",
              "      <td>0.860095</td>\n",
              "    </tr>\n",
              "    <tr>\n",
              "      <th>707</th>\n",
              "      <td>38.97</td>\n",
              "      <td>1.660000e+09</td>\n",
              "      <td>0.000100</td>\n",
              "      <td>2.2</td>\n",
              "      <td>2.101789</td>\n",
              "      <td>1.0</td>\n",
              "      <td>1.056483</td>\n",
              "    </tr>\n",
              "    <tr>\n",
              "      <th>708</th>\n",
              "      <td>39.76</td>\n",
              "      <td>1.530000e+09</td>\n",
              "      <td>0.000100</td>\n",
              "      <td>2.2</td>\n",
              "      <td>2.156371</td>\n",
              "      <td>1.2</td>\n",
              "      <td>1.237809</td>\n",
              "    </tr>\n",
              "    <tr>\n",
              "      <th>714</th>\n",
              "      <td>41.00</td>\n",
              "      <td>1.090000e+09</td>\n",
              "      <td>0.000100</td>\n",
              "      <td>2.2</td>\n",
              "      <td>2.209040</td>\n",
              "      <td>2.4</td>\n",
              "      <td>2.568742</td>\n",
              "    </tr>\n",
              "  </tbody>\n",
              "</table>\n",
              "<p>145 rows × 7 columns</p>\n",
              "</div>"
            ],
            "text/plain": [
              "        Av            BW       Iss  ...   M0_M1_W  real_M2_M3_W   M2_M3_W\n",
              "9    43.30  3.360000e+07  0.000001  ...  0.579215           2.2  1.892697\n",
              "11   45.18  9.520000e+07  0.000001  ...  0.602988           0.4  1.202914\n",
              "19   44.11  3.570000e+07  0.000001  ...  0.647602           2.0  1.864666\n",
              "23   46.23  7.310000e+07  0.000001  ...  0.750691           0.6  1.439945\n",
              "28   47.39  3.960000e+07  0.000001  ...  0.939474           1.6  1.800217\n",
              "..     ...           ...       ...  ...       ...           ...       ...\n",
              "705  34.10  2.060000e+09  0.000100  ...  1.666997           0.6  0.771848\n",
              "706  37.28  1.830000e+09  0.000100  ...  1.903159           0.8  0.860095\n",
              "707  38.97  1.660000e+09  0.000100  ...  2.101789           1.0  1.056483\n",
              "708  39.76  1.530000e+09  0.000100  ...  2.156371           1.2  1.237809\n",
              "714  41.00  1.090000e+09  0.000100  ...  2.209040           2.4  2.568742\n",
              "\n",
              "[145 rows x 7 columns]"
            ]
          },
          "metadata": {
            "tags": []
          },
          "execution_count": 34
        }
      ]
    }
  ]
}